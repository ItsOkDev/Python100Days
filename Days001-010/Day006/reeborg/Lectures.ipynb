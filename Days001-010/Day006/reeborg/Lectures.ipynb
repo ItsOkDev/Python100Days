{
 "cells": [
  {
   "cell_type": "markdown",
   "id": "8c72fdd2",
   "metadata": {},
   "source": [
    "# 🤖 Alone\n",
    "\n",
    "## Example 1\n",
    "\n",
    "```python\n",
    "move()\n",
    "```\n",
    "## Output\n",
    "\n",
    "![alone1](imgs/alone1.png)"
   ]
  },
  {
   "cell_type": "markdown",
   "id": "935ad442",
   "metadata": {},
   "source": [
    "## Example 2\n",
    "\n",
    "```python\n",
    "move()\n",
    "move()\n",
    "move()\n",
    "```\n",
    "## Output\n",
    "\n",
    "![alone2](imgs/alone2.png)"
   ]
  },
  {
   "cell_type": "markdown",
   "id": "844b11c9",
   "metadata": {},
   "source": [
    "## Example 3\n",
    "\n",
    "```python\n",
    "move()\n",
    "move()\n",
    "move()\n",
    "turn_left()\n",
    "move()\n",
    "move()\n",
    "move()\n",
    "```\n",
    "## Output: (4, 4)\n",
    "\n",
    "![alone3](imgs/alone3.png)"
   ]
  },
  {
   "cell_type": "markdown",
   "id": "9cb0329e",
   "metadata": {},
   "source": [
    "## Example 4\n",
    "\n",
    "```python\n",
    "def turn_around():\n",
    "    turn_left()\n",
    "    turn_left()\n",
    "    \n",
    "\n",
    "move()\n",
    "move()\n",
    "turn_around()\n",
    "move()\n",
    "move()\n",
    "turn_around()\n",
    "```\n",
    "## Output\n",
    "\n",
    "![alone4](imgs/alone4.png)"
   ]
  },
  {
   "cell_type": "markdown",
   "id": "c59cfbc7",
   "metadata": {},
   "source": [
    "## Example 5\n",
    "\n",
    "```python\n",
    "def turn_right():\n",
    "    turn_left()\n",
    "    turn_left()\n",
    "    turn_left()\n",
    "    \n",
    "\n",
    "turn_left()\n",
    "for _ in range(3):\n",
    "    move()\n",
    "    turn_right()\n",
    "move()\n",
    "```\n",
    "## Output\n",
    "\n",
    "![alone5](imgs/alone5.png)"
   ]
  },
  {
   "cell_type": "markdown",
   "id": "d07c95a6",
   "metadata": {},
   "source": [
    "# 🤖 Hurdle 1\n",
    "## Example\n",
    "\n",
    "```python\n",
    "def turn_right():\n",
    "    turn_left()\n",
    "    turn_left()\n",
    "    turn_left()\n",
    "    \n",
    "\n",
    "def jump():\n",
    "    turn_left()\n",
    "    move()\n",
    "    turn_right()\n",
    "    move()\n",
    "    turn_right()\n",
    "    move()\n",
    "    turn_left()\n",
    "\n",
    "    \n",
    "number_of_hurdles = 6\n",
    "while number_of_hurdles > 0:\n",
    "    move()\n",
    "    jump()\n",
    "    number_of_hurdles -= 1\n",
    "    print(number_of_hurdles)\n",
    "```\n",
    "## Output\n",
    "\n",
    "![hurdle1b](imgs/hurdle1b.png)"
   ]
  }
 ],
 "metadata": {
  "kernelspec": {
   "display_name": "Python 3",
   "language": "python",
   "name": "python3"
  },
  "language_info": {
   "codemirror_mode": {
    "name": "ipython",
    "version": 3
   },
   "file_extension": ".py",
   "mimetype": "text/x-python",
   "name": "python",
   "nbconvert_exporter": "python",
   "pygments_lexer": "ipython3",
   "version": "3.8.6"
  },
  "toc": {
   "base_numbering": 1,
   "nav_menu": {},
   "number_sections": false,
   "sideBar": true,
   "skip_h1_title": false,
   "title_cell": "Table of Contents",
   "title_sidebar": "Contents",
   "toc_cell": false,
   "toc_position": {},
   "toc_section_display": true,
   "toc_window_display": true
  }
 },
 "nbformat": 4,
 "nbformat_minor": 5
}