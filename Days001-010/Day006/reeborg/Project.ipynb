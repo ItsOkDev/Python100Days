{
 "cells": [
  {
   "cell_type": "markdown",
   "id": "1df37dbd",
   "metadata": {},
   "source": [
    "# 🤖 Maze\n",
    "\n",
    "## Solution\n",
    "\n",
    "```python\n",
    "def turn_right():\n",
    "    turn_left()\n",
    "    turn_left()\n",
    "    turn_left()\n",
    "    \n",
    "def walk():\n",
    "    if right_is_clear():\n",
    "        turn_right()\n",
    "        move()\n",
    "    elif front_is_clear():\n",
    "        move()\n",
    "    else:\n",
    "        turn_left()\n",
    "        \n",
    "        \n",
    "while front_is_clear():\n",
    "    move()\n",
    "turn_left()\n",
    "\n",
    "while not at_goal():\n",
    "    walk()\n",
    "```\n",
    "## Outputs\n",
    "![maze1](imgs/maze1.png)\n",
    "![maze2](imgs/maze2.png)\n",
    "![maze3](imgs/maze3.png)\n",
    "![maze4](imgs/maze4.png)"
   ]
  }
 ],
 "metadata": {
  "kernelspec": {
   "display_name": "Python 3",
   "language": "python",
   "name": "python3"
  },
  "language_info": {
   "codemirror_mode": {
    "name": "ipython",
    "version": 3
   },
   "file_extension": ".py",
   "mimetype": "text/x-python",
   "name": "python",
   "nbconvert_exporter": "python",
   "pygments_lexer": "ipython3",
   "version": "3.8.6"
  },
  "toc": {
   "base_numbering": 1,
   "nav_menu": {},
   "number_sections": false,
   "sideBar": true,
   "skip_h1_title": false,
   "title_cell": "Table of Contents",
   "title_sidebar": "Contents",
   "toc_cell": false,
   "toc_position": {},
   "toc_section_display": true,
   "toc_window_display": true
  }
 },
 "nbformat": 4,
 "nbformat_minor": 5
}
